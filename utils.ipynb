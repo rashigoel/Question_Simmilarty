{
 "cells": [
  {
   "cell_type": "code",
   "execution_count": 2,
   "metadata": {
    "collapsed": true
   },
   "outputs": [],
   "source": [
    "from nltk.corpus import wordnet as wn\n",
    "from nltk.stem import PorterStemmer, WordNetLemmatizer\n",
    "from nltk import pos_tag, word_tokenize\n",
    "\n",
    "SS_PARAMETERS_TYPE_MAP = {'definition':str, 'lemma_names':list,\n",
    "                          'examples':list,  'hypernyms':list,\n",
    "                          'hyponyms': list, 'member_holonyms':list,\n",
    "                          'part_holonyms':list, 'substance_holonyms':list,\n",
    "                          'member_meronyms':list, 'substance_meronyms': list,\n",
    "'part_meronyms':list, 'similar_tos':list}"
   ]
  },
  {
   "cell_type": "code",
   "execution_count": 4,
   "metadata": {},
   "outputs": [],
   "source": [
    "def remove_tags(text):\n",
    "    \"\"\" Removes <tags> in angled brackets from text. \"\"\"\n",
    "    import re\n",
    "    tags = {i:\" \" for i in re.findall(\"(<[^>\\n]*>)\",text.strip())}\n",
    "    no_tag_text = reduce(lambda x, kv:x.replace(*kv), tags.iteritems(), text)\n",
    "    return \" \".join(no_tag_text.split())"
   ]
  },
  {
   "cell_type": "code",
   "execution_count": 5,
   "metadata": {
    "collapsed": true
   },
   "outputs": [],
   "source": [
    "def offset_to_synset(offset):\n",
    "    \"\"\"\n",
    "    Look up a synset given offset-pos\n",
    "    (Thanks for @FBond, see http://moin.delph-in.net/SemCor)\n",
    "    >>> synset = offset_to_synset('02614387-v')\n",
    "    >>> print '%08d-%s' % (synset.offset, synset.pos)\n",
    "    >>> print synset, synset.definition\n",
    "    02614387-v\n",
    "    Synset('live.v.02') lead a certain kind of life; live in a certain style\n",
    "    \"\"\"\n",
    "    return wn._synset_from_pos_and_offset(str(offset[-1:]), int(offset[:8]))\n"
   ]
  },
  {
   "cell_type": "code",
   "execution_count": 6,
   "metadata": {
    "collapsed": true
   },
   "outputs": [],
   "source": [
    "def semcor_to_synset(sensekey):\n",
    "    \"\"\"\n",
    "    Look up a synset given the information from SemCor sensekey format.\n",
    "    (Thanks for @FBond, see http://moin.delph-in.net/SemCor)\n",
    "    >>> ss = semcor_to_offset('live%2:42:06::')\n",
    "    >>> print '%08d-%s' % (ss.offset, ss.pos)\n",
    "    >>> print ss, ss.definition\n",
    "    02614387-v\n",
    "    Synset('live.v.02') lead a certain kind of life; live in a certain style\n",
    "    \"\"\"\n",
    "    return wn.lemma_from_key(sensekey).synset"
   ]
  },
  {
   "cell_type": "code",
   "execution_count": 7,
   "metadata": {
    "collapsed": true
   },
   "outputs": [],
   "source": [
    "def semcor_to_offset(sensekey):\n",
    "    \"\"\"\n",
    "    Converts SemCor sensekey IDs to synset offset.\n",
    "    >>> print semcor_to_offset('live%2:42:06::')\n",
    "    02614387-v\n",
    "    \"\"\"\n",
    "    synset = wn.lemma_from_key(sensekey).synset\n",
    "    offset = '%08d-%s' % (synset.offset, synset.pos)\n",
    "    return offset"
   ]
  },
  {
   "cell_type": "code",
   "execution_count": 8,
   "metadata": {
    "collapsed": true
   },
   "outputs": [],
   "source": [
    "porter = PorterStemmer()\n",
    "wnl = WordNetLemmatizer()\n",
    "\n",
    "def lemmatize(ambiguous_word, pos=None, neverstem=False,\n",
    "              lemmatizer=wnl, stemmer=porter):\n",
    "    \"\"\"\n",
    "    Tries to convert a surface word into lemma, and if lemmatize word is not in\n",
    "    wordnet then try and convert surface word into its stem.\n",
    "    This is to handle the case where users input a surface word as an ambiguous\n",
    "    word and the surface word is a not a lemma.\n",
    "    \"\"\"\n",
    "    if pos:\n",
    "        lemma = lemmatizer.lemmatize(ambiguous_word, pos=pos)\n",
    "    else:\n",
    "        lemma = lemmatizer.lemmatize(ambiguous_word)\n",
    "    stem = stemmer.stem(ambiguous_word)\n",
    "    # Ensure that ambiguous word is a lemma.\n",
    "    if not wn.synsets(lemma):\n",
    "        if neverstem:\n",
    "            return ambiguous_word\n",
    "        if not wn.synsets(stem):\n",
    "            return ambiguous_word\n",
    "        else:\n",
    "            return stem\n",
    "    else:\n",
    "        return lemma"
   ]
  },
  {
   "cell_type": "code",
   "execution_count": 9,
   "metadata": {
    "collapsed": true
   },
   "outputs": [],
   "source": [
    "def penn2morphy(penntag, returnNone=False):\n",
    "    morphy_tag = {'NN':wn.NOUN, 'JJ':wn.ADJ,\n",
    "                  'VB':wn.VERB, 'RB':wn.ADV}\n",
    "    try:\n",
    "        return morphy_tag[penntag[:2]]\n",
    "    except:\n",
    "        return None if returnNone else ''"
   ]
  },
  {
   "cell_type": "code",
   "execution_count": 10,
   "metadata": {
    "collapsed": true
   },
   "outputs": [],
   "source": [
    "def lemmatize_sentence(sentence, neverstem=False, keepWordPOS=False,\n",
    "                       tokenizer=word_tokenize, postagger=pos_tag,\n",
    "                       lemmatizer=wnl, stemmer=porter):\n",
    "    words, lemmas, poss = [], [], []\n",
    "    for word, pos in postagger(tokenizer(sentence)):\n",
    "        pos = penn2morphy(pos)\n",
    "        lemmas.append(lemmatize(word.lower(), pos, neverstem,\n",
    "                                lemmatizer, stemmer))\n",
    "        poss.append(pos)\n",
    "        words.append(word)\n",
    "    if keepWordPOS:\n",
    "        return words, lemmas, [None if i == '' else i for i in poss]\n",
    "    return lemmas\n"
   ]
  },
  {
   "cell_type": "code",
   "execution_count": 11,
   "metadata": {
    "collapsed": true
   },
   "outputs": [],
   "source": [
    "def synset_properties(synset, parameter):\n",
    "    \"\"\"\n",
    "    Making from NLTK's WordNet Synset's properties to function.\n",
    "    Note: This is for compatibility with NLTK 2.x\n",
    "    \"\"\"\n",
    "    return_type = SS_PARAMETERS_TYPE_MAP[parameter]\n",
    "    func = 'synset.' + parameter\n",
    "    return eval(func) if isinstance(eval(func), return_type) else eval(func)()\n"
   ]
  },
  {
   "cell_type": "code",
   "execution_count": 12,
   "metadata": {
    "collapsed": true
   },
   "outputs": [],
   "source": [
    "def has_synset(word):\n",
    "    \"\"\"\" Returns a list of synsets a word after lemmatization \"\"\"\n",
    "    return wn.synsets(lemmatize(word, neverstem=True))"
   ]
  },
  {
   "cell_type": "code",
   "execution_count": null,
   "metadata": {
    "collapsed": true
   },
   "outputs": [],
   "source": []
  }
 ],
 "metadata": {
  "kernelspec": {
   "display_name": "Python 3",
   "language": "python",
   "name": "python3"
  },
  "language_info": {
   "codemirror_mode": {
    "name": "ipython",
    "version": 3
   },
   "file_extension": ".py",
   "mimetype": "text/x-python",
   "name": "python",
   "nbconvert_exporter": "python",
   "pygments_lexer": "ipython3",
   "version": "3.6.1"
  }
 },
 "nbformat": 4,
 "nbformat_minor": 2
}
