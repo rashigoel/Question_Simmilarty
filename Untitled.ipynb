{
 "cells": [
  {
   "cell_type": "code",
   "execution_count": 1,
   "metadata": {
    "collapsed": true
   },
   "outputs": [],
   "source": [
    "import csv \n",
    "import sys"
   ]
  },
  {
   "cell_type": "code",
   "execution_count": null,
   "metadata": {
    "collapsed": true
   },
   "outputs": [],
   "source": [
    "csv.field_size_limit(sys.maxsize)\n",
    "def fakenews_titles(dataset_name):\n",
    "    file = open('fake.csv',\"r\") \n",
    "    with open(dataset_name, newline='') as csvfile:\n",
    "        spamreader = csv.reader(csvfile)\n",
    "        length = 0\n",
    "        title = list()\n",
    "        for index, row in enumerate(spamreader):\n",
    "            if index > 0:\n",
    "                title_length = len(row[4])\n",
    "                if title_length < 200:\n",
    "                    if title_length > 0:\n",
    "                        one_title = row[4]\n",
    "                        end_index = one_title.find('»')\n",
    "                        sub_title = one_title[0:end_index]\n",
    "                        title.append(sub_title)\n",
    "                        file.write(sub_title)\n",
    "                        file.write('\\n')\n",
    "                file_2.write(row[8])\n",
    "                file_2.wirte('\\n')\n",
    "        print(title)\n",
    "        file.close()\n",
    "        file_2.close()\n",
    "        return title\n"
   ]
  }
 ],
 "metadata": {
  "kernelspec": {
   "display_name": "Python 3",
   "language": "python",
   "name": "python3"
  },
  "language_info": {
   "codemirror_mode": {
    "name": "ipython",
    "version": 3
   },
   "file_extension": ".py",
   "mimetype": "text/x-python",
   "name": "python",
   "nbconvert_exporter": "python",
   "pygments_lexer": "ipython3",
   "version": "3.6.1"
  }
 },
 "nbformat": 4,
 "nbformat_minor": 2
}
