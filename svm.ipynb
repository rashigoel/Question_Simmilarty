{
 "cells": [
  {
   "cell_type": "code",
   "execution_count": 20,
   "metadata": {},
   "outputs": [
    {
     "name": "stderr",
     "output_type": "stream",
     "text": [
      "/home/rashi/anaconda3/lib/python3.6/site-packages/h5py/__init__.py:34: FutureWarning: Conversion of the second argument of issubdtype from `float` to `np.floating` is deprecated. In future, it will be treated as `np.float64 == np.dtype(float).type`.\n",
      "  from ._conv import register_converters as _register_converters\n",
      "Using TensorFlow backend.\n",
      "/home/rashi/anaconda3/lib/python3.6/importlib/_bootstrap.py:205: RuntimeWarning: compiletime version 3.5 of module 'tensorflow.python.framework.fast_tensor_util' does not match runtime version 3.6\n",
      "  return f(*args, **kwds)\n"
     ]
    }
   ],
   "source": [
    "import re\n",
    "import nltk\n",
    "import string\n",
    "import math\n",
    "import csv\n",
    "import numpy as np\n",
    "#import feature_matrix\n",
    "#import tensorflow\n",
    "from nltk.corpus import wordnet\n",
    "import RandomTree as rt\n",
    "from sklearn.ensemble import RandomForestClassifier\n",
    "from keras.preprocessing.text import one_hot\n",
    "from sklearn import svm\n",
    "from sklearn.svm import SVC\n",
    "from sklearn import tree\n",
    "from sklearn.multiclass import OneVsRestClassifier\n",
    "from sklearn.preprocessing import LabelBinarizer"
   ]
  },
  {
   "cell_type": "code",
   "execution_count": 21,
   "metadata": {},
   "outputs": [],
   "source": [
    "def cap(sentence):\n",
    "    uppers = [l for l in sentence if l.isupper()]\n",
    "    words = len(sentence.split())\n",
    "    return (len(uppers)/words)"
   ]
  },
  {
   "cell_type": "code",
   "execution_count": 22,
   "metadata": {},
   "outputs": [],
   "source": [
    "def punc(sentence):\n",
    "    count = lambda l1, l2: len(list(filter(lambda c: c in l2, l1)))\n",
    "    #a_chars =  count(a, string.ascii_letters)\n",
    "    a_punct = count(a, string.punctuation)\n",
    "    #print(a_chars)\n",
    "    words = len(sentence.split())\n",
    "    return (a_punct/words)"
   ]
  },
  {
   "cell_type": "code",
   "execution_count": 23,
   "metadata": {
    "collapsed": true
   },
   "outputs": [],
   "source": [
    "def chars(sentence):\n",
    "    count = lambda l1, l2: len(list(filter(lambda c: c in l2, l1)))\n",
    "    a_chars =  count(a, string.ascii_letters)\n",
    "    words = len(sentence.split())\n",
    "    return (a_chars/words)"
   ]
  },
  {
   "cell_type": "code",
   "execution_count": 24,
   "metadata": {
    "collapsed": true
   },
   "outputs": [],
   "source": [
    "def lesk(context_sentence, ambiguous_word, pos=None, synsets=None):\n",
    "    \"\"\"Return a synset for an ambiguous word in a context.\n",
    "\n",
    "    :param iter context_sentence: The context sentence where the ambiguous word\n",
    "    occurs, passed as an iterable of words.\n",
    "    :param str ambiguous_word: The ambiguous word that requires WSD.\n",
    "    :param str pos: A specified Part-of-Speech (POS).\n",
    "    :param iter synsets: Possible synsets of the ambiguous word.\n",
    "    :return: ``lesk_sense`` The Synset() object with the highest signature overlaps.\n",
    "\n",
    "    This function is an implementation of the original Lesk algorithm (1986) [1].\n",
    "\n",
    "    Usage example::\n",
    "\n",
    "        >>> lesk(['I', 'went', 'to', 'the', 'bank', 'to', 'deposit', 'money', '.'], 'bank', 'n')\n",
    "        Synset('savings_bank.n.02')\n",
    "\n",
    "    [1] Lesk, Michael. \"Automatic sense disambiguation using machine\n",
    "    readable dictionaries: how to tell a pine cone from an ice cream\n",
    "    cone.\" Proceedings of the 5th Annual International Conference on\n",
    "    Systems Documentation. ACM, 1986.\n",
    "    http://dl.acm.org/citation.cfm?id=318728\n",
    "    \"\"\"\n",
    "\n",
    "    context = set(context_sentence)\n",
    "    if synsets is None:\n",
    "        synsets = wordnet.synsets(ambiguous_word)\n",
    "    #print(\"\\n\\n\" + \" :::   \" + pos)\n",
    "    #print(synsets)\n",
    "           \n",
    "    if pos=='JJ' or pos=='JJR' or pos=='JJS' :\n",
    "        synsets = [ss for ss in synsets if (str(ss.pos()) == 'a' or str(ss.pos()) == 's')]\n",
    "    if pos=='RB' or pos=='RBR' or pos=='RBS' :\n",
    "        synsets = [ss for ss in synsets if str(ss.pos()) == 'r']\n",
    "    #print(\"End\")\n",
    "    \n",
    "    if not synsets:\n",
    "        return None\n",
    "\n",
    "    _, sense = max(\n",
    "        (len(context.intersection(ss.definition().split())), ss) for ss in synsets\n",
    "    )\n",
    "\n",
    "    return sense"
   ]
  },
  {
   "cell_type": "code",
   "execution_count": null,
   "metadata": {
    "collapsed": true
   },
   "outputs": [],
   "source": []
  },
  {
   "cell_type": "code",
   "execution_count": 45,
   "metadata": {},
   "outputs": [],
   "source": [
    "#Function to extract adjectives from the contents. Return a list of strings\n",
    "#Need nltk library: import nltk\n",
    "def extract_adjective(sentence):\n",
    "    adj_sentences = list()\n",
    "    count = 0\n",
    "    words = nltk.word_tokenize(sentence)\n",
    "    adj_tags = nltk.pos_tag(words)\n",
    "    one_adj_sentence = \"\"\n",
    "    for index, tag in enumerate(adj_tags, start = 0):\n",
    "        one_tag = tag[1]\n",
    "        if one_tag in ['JJ', 'JJR', 'JJS', 'RB', 'RBR', 'RBS', 'VBP', 'VB', 'VBD', 'VBG','VBN']:\n",
    "            count = count+1\n",
    "    adj_sentences.append(one_adj_sentence)\n",
    "    print(one_adj_sentence)\n",
    "    return count"
   ]
  },
  {
   "cell_type": "code",
   "execution_count": null,
   "metadata": {
    "collapsed": true
   },
   "outputs": [],
   "source": []
  },
  {
   "cell_type": "code",
   "execution_count": null,
   "metadata": {
    "collapsed": true
   },
   "outputs": [],
   "source": []
  },
  {
   "cell_type": "code",
   "execution_count": null,
   "metadata": {
    "collapsed": true
   },
   "outputs": [],
   "source": []
  },
  {
   "cell_type": "code",
   "execution_count": 26,
   "metadata": {
    "collapsed": true
   },
   "outputs": [],
   "source": [
    "def clean_sentence(s):\n",
    "    c = s.lower().strip()\n",
    "    return re.sub('[^a-z ]', '', c)"
   ]
  },
  {
   "cell_type": "code",
   "execution_count": 27,
   "metadata": {
    "collapsed": true
   },
   "outputs": [],
   "source": [
    "def encode_words(sentences):\n",
    "    encoded = list()\n",
    "    for sentence in sentences:\n",
    "        words = list()\n",
    "        mapping = list()\n",
    "        words = nltk.word_tokenize(sentence)\n",
    "        for word in words:\n",
    "            mapping.append(one_hot(word,10000)[0])\n",
    "        encoded.append(mapping);\n",
    "    return encoded"
   ]
  },
  {
   "cell_type": "code",
   "execution_count": 28,
   "metadata": {
    "collapsed": true
   },
   "outputs": [],
   "source": [
    "def append_with_max_len(encoded,length):\n",
    "    for e in encoded:\n",
    "        for count in range(len(e), length):\n",
    "            e.append(0)\n",
    "    return encoded;"
   ]
  },
  {
   "cell_type": "code",
   "execution_count": 29,
   "metadata": {
    "collapsed": true
   },
   "outputs": [],
   "source": [
    "def set_label(fake_size, real_size):\n",
    "    label = list()\n",
    "    for counter in range(0,fake_size):\n",
    "        label.append(0)\n",
    "    for counter in range(0,real_size):\n",
    "        label.append(1)\n",
    "    return label"
   ]
  },
  {
   "cell_type": "code",
   "execution_count": 46,
   "metadata": {
    "scrolled": true
   },
   "outputs": [
    {
     "name": "stdout",
     "output_type": "stream",
     "text": [
      "\n",
      "1\n"
     ]
    }
   ],
   "source": [
    "train_news = list()\n",
    "fake_size = 0\n",
    "real_size = 0\n",
    "words = list()\n",
    "with open('./data/titles/fake_news_training.txt') as train1:\n",
    "    with open('./data/titles/real_news_training.txt') as train2:\n",
    "        for line in train1:\n",
    "            words.append(extract_adjective(clean_sentence(line))) \n",
    "            fake_size = fake_size+1\n",
    "        for line in train2:\n",
    "            words.append(extract_adjective(clean_sentence(line))) \n",
    "            real_size = real_size+1\n",
    "predict_news = list()\n",
    "count = 0\n",
    "count1 = 0\n",
    "with open('./data/real2.txt') as predict1:\n",
    "    with open('./data/fake2.txt') as predict2:\n",
    "        for line in predict1:\n",
    "            predict_news.append(clean_sentence(line))\n",
    "            count = count+1\n",
    "        for line in predict2:\n",
    "            predict_news.append(clean_sentence(line))\n",
    "            count1 = count1+1\n",
    "   \n",
    "print((words))"
   ]
  },
  {
   "cell_type": "code",
   "execution_count": null,
   "metadata": {
    "collapsed": true
   },
   "outputs": [],
   "source": []
  },
  {
   "cell_type": "code",
   "execution_count": null,
   "metadata": {
    "collapsed": true
   },
   "outputs": [],
   "source": []
  },
  {
   "cell_type": "code",
   "execution_count": null,
   "metadata": {
    "collapsed": true
   },
   "outputs": [],
   "source": []
  },
  {
   "cell_type": "code",
   "execution_count": null,
   "metadata": {
    "collapsed": true
   },
   "outputs": [],
   "source": []
  },
  {
   "cell_type": "code",
   "execution_count": null,
   "metadata": {
    "collapsed": true
   },
   "outputs": [],
   "source": []
  },
  {
   "cell_type": "code",
   "execution_count": null,
   "metadata": {
    "collapsed": true
   },
   "outputs": [],
   "source": []
  },
  {
   "cell_type": "code",
   "execution_count": null,
   "metadata": {
    "collapsed": true
   },
   "outputs": [],
   "source": []
  }
 ],
 "metadata": {
  "kernelspec": {
   "display_name": "Python 3",
   "language": "python",
   "name": "python3"
  },
  "language_info": {
   "codemirror_mode": {
    "name": "ipython",
    "version": 3
   },
   "file_extension": ".py",
   "mimetype": "text/x-python",
   "name": "python",
   "nbconvert_exporter": "python",
   "pygments_lexer": "ipython3",
   "version": "3.6.4"
  }
 },
 "nbformat": 4,
 "nbformat_minor": 1
}
