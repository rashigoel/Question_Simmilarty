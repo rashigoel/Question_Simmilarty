{
 "cells": [
  {
   "cell_type": "code",
   "execution_count": 2,
   "metadata": {},
   "outputs": [],
   "source": [
    "import re\n",
    "import nltk\n",
    "import numpy as np\n",
    "#from keras.preprocessing.text import one_hot\n",
    "from sklearn import tree\n",
    "from sklearn import svm\n",
    "from sklearn.svm import SVC\n",
    "from sklearn.multiclass import OneVsRestClassifier\n",
    "import read_html"
   ]
  },
  {
   "cell_type": "code",
   "execution_count": 3,
   "metadata": {
    "collapsed": true
   },
   "outputs": [],
   "source": [
    "def clean_sentence(s):\n",
    "    c = s.lower().strip()\n",
    "    return c"
   ]
  },
  {
   "cell_type": "code",
   "execution_count": 4,
   "metadata": {
    "collapsed": true
   },
   "outputs": [],
   "source": [
    "def count_special_character(sentences):\n",
    "    l = list(sentences)\n",
    "    count = 0\n",
    "    flag = 0\n",
    "    for ch in l:\n",
    "        if (ch == '!') or (ch == '?') or (ch == '|'):\n",
    "            count = count + 1\n",
    "        if ch == '.':\n",
    "            if flag == 0:\n",
    "                flag = 1\n",
    "            else:\n",
    "                count = count + 1\n",
    "                flag = 0\n",
    "    return count\n"
   ]
  },
  {
   "cell_type": "code",
   "execution_count": 5,
   "metadata": {
    "collapsed": true
   },
   "outputs": [],
   "source": [
    "def count_length(sentences):\n",
    "    return len(sentences)"
   ]
  },
  {
   "cell_type": "code",
   "execution_count": 6,
   "metadata": {
    "collapsed": true
   },
   "outputs": [],
   "source": [
    "def set_label(fake_size, real_size):\n",
    "    label = list()\n",
    "    for counter in range(0,fake_size):\n",
    "        label.append(0)\n",
    "    for counter in range(0,real_size):\n",
    "        label.append(1)\n",
    "    return label"
   ]
  },
  {
   "cell_type": "code",
   "execution_count": 7,
   "metadata": {
    "collapsed": true
   },
   "outputs": [],
   "source": [
    "train_news = list()\n",
    "fake_size = 0\n",
    "real_size = 0\n",
    "with open('./data/fake_news_training.txt') as train1:\n",
    "    with open('./data/real_news_training.txt') as train2:\n",
    "        for line in train1:\n",
    "            special_character = count_special_character(clean_sentence(line))\n",
    "            line_length = count_length(clean_sentence(line))\n",
    "            train_news.append([special_character, line_length])\n",
    "            fake_size = fake_size+1\n",
    "        for line in train2:\n",
    "            special_character = count_special_character(clean_sentence(line))\n",
    "            line_length = count_length(clean_sentence(line))\n",
    "            train_news.append([special_character, line_length])\n",
    "            real_size = real_size+1\n",
    "\n",
    "predict_news = list()\n",
    "with open('./data/testing_real.txt') as predict1:\n",
    "    with open('./data/testing_fake.txt') as predict2:\n",
    "        for line in predict1:\n",
    "            special_character = count_special_character(clean_sentence(line))\n",
    "            line_length = count_length(clean_sentence(line))\n",
    "            predict_news.append([special_character, line_length])\n",
    "        for line in predict2:\n",
    "            special_character = count_special_character(clean_sentence(line))\n",
    "            line_length = count_length(clean_sentence(line))\n",
    "            predict_news.append([special_character, line_length])\n",
    "\n",
    "labels = set_label(fake_size, real_size)"
   ]
  },
  {
   "cell_type": "code",
   "execution_count": 11,
   "metadata": {},
   "outputs": [
    {
     "name": "stdout",
     "output_type": "stream",
     "text": [
      "test result with [R, R, R, R, F, F, F, F]\n",
      "Decision Tree Result: (1 for Real, 0 for fake)\n",
      "[0 0 1 1 1 0 1 1]\n",
      "SVM Result: (1 for Real, 0 for fake)\n",
      "[0 0 1 0 0 0 0 0]\n",
      "trying list of news from internet!\n",
      "test result with [F, F, R]\n",
      "Decision Tree Result: (1 for Real, 0 for fake)\n",
      "[0 0]\n"
     ]
    }
   ],
   "source": [
    "print(\"test result with [R, R, R, R, F, F, F, F]\")\n",
    "print (\"Decision Tree Result: (1 for Real, 0 for fake)\")\n",
    "clf = tree.DecisionTreeClassifier()\n",
    "clf = clf.fit(train_news, labels)\n",
    "print(clf.predict(predict_news))\n",
    "\n",
    "print(\"SVM Result: (1 for Real, 0 for fake)\")\n",
    "classif = OneVsRestClassifier(estimator=SVC(random_state=0))\n",
    "print(classif.fit(train_news, labels).predict(predict_news))\n",
    "\n",
    "print(\"trying list of news from internet!\")\n",
    "list_headlines = read_html.getFakeNews('data/test.txt')\n",
    "test_news = []\n",
    "for line in list_headlines:\n",
    "    special_character = count_special_character(clean_sentence(line))\n",
    "    line_length = count_length(clean_sentence(line))\n",
    "    test_news.append([special_character, line_length])\n",
    "\n",
    "print(\"test result with [F, F, R]\")\n",
    "print(\"Decision Tree Result: (1 for Real, 0 for fake)\")\n",
    "clf = tree.DecisionTreeClassifier()\n",
    "clf = clf.fit(train_news, labels)\n",
    "print(clf.predict(test_news))\n",
    "\n",
    "\n",
    "# output:\n",
    "# test result with [R, R, R, R, F, F, F, F]\n",
    "# Decision Tree Result: (1 for Real, 0 for fake)\n",
    "# [1 0 1 1 1 0 0 0]\n",
    "# SVM Result: (1 for Real, 0 for fake)\n",
    "# [1 0 1 0 1 0 0 0]"
   ]
  },
  {
   "cell_type": "code",
   "execution_count": null,
   "metadata": {
    "collapsed": true
   },
   "outputs": [],
   "source": []
  }
 ],
 "metadata": {
  "kernelspec": {
   "display_name": "Python 3",
   "language": "python",
   "name": "python3"
  },
  "language_info": {
   "codemirror_mode": {
    "name": "ipython",
    "version": 3
   },
   "file_extension": ".py",
   "mimetype": "text/x-python",
   "name": "python",
   "nbconvert_exporter": "python",
   "pygments_lexer": "ipython3",
   "version": "3.6.1"
  }
 },
 "nbformat": 4,
 "nbformat_minor": 2
}
